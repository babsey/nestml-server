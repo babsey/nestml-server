{
 "cells": [
  {
   "cell_type": "code",
   "execution_count": null,
   "id": "2c470248",
   "metadata": {},
   "outputs": [],
   "source": [
    "from pynestml.frontend.pynestml_frontend import generate_nest_target\n",
    "\n",
    "MODELS_PATH = '${PWD}/../models'\n",
    "TARGETS_PATH = '/tmp/nestml_targets'\n",
    "module_name = 'nestmlmodule'\n",
    "\n",
    "generate_nest_target(MODELS_PATH, TARGETS_PATH, module_name=module_name)"
   ]
  },
  {
   "cell_type": "code",
   "execution_count": null,
   "id": "492831c4",
   "metadata": {},
   "outputs": [],
   "source": [
    "import nest\n",
    "nest.Install(module_name)"
   ]
  },
  {
   "cell_type": "code",
   "execution_count": null,
   "id": "0ff8fc05",
   "metadata": {},
   "outputs": [],
   "source": [
    "print(nest.node_models.index('my_neuron'))"
   ]
  },
  {
   "cell_type": "code",
   "execution_count": null,
   "id": "17db861b",
   "metadata": {},
   "outputs": [],
   "source": []
  }
 ],
 "metadata": {
  "kernelspec": {
   "display_name": "Python 3 (ipykernel)",
   "language": "python",
   "name": "python3"
  },
  "language_info": {
   "codemirror_mode": {
    "name": "ipython",
    "version": 3
   },
   "file_extension": ".py",
   "mimetype": "text/x-python",
   "name": "python",
   "nbconvert_exporter": "python",
   "pygments_lexer": "ipython3",
   "version": "3.8.10"
  }
 },
 "nbformat": 4,
 "nbformat_minor": 5
}
