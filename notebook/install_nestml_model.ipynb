{
 "cells": [
  {
   "cell_type": "code",
   "execution_count": null,
   "id": "2c470248",
   "metadata": {},
   "outputs": [],
   "source": [
    "from pynestml.frontend.pynestml_frontend import to_nest, install_nest\n",
    "\n",
    "MODELS = '/home/spreizer/Projects/nestml-server/models'\n",
    "BUILD = '/tmp/nestml_build'\n",
    "NEST = '/home/spreizer/opt/nest-nestml'\n",
    "\n",
    "to_nest(MODELS, BUILD, module_name='nestmlmodule')\n",
    "install_nest(BUILD, NEST)"
   ]
  },
  {
   "cell_type": "code",
   "execution_count": null,
   "id": "492831c4",
   "metadata": {},
   "outputs": [],
   "source": [
    "import nest\n",
    "nest.Install('nestmlmodule')"
   ]
  },
  {
   "cell_type": "code",
   "execution_count": null,
   "id": "0ff8fc05",
   "metadata": {},
   "outputs": [],
   "source": [
    "print(nest.node_models[-2:])"
   ]
  },
  {
   "cell_type": "code",
   "execution_count": null,
   "id": "17db861b",
   "metadata": {},
   "outputs": [],
   "source": []
  }
 ],
 "metadata": {
  "kernelspec": {
   "display_name": "Python 3 (ipykernel)",
   "language": "python",
   "name": "python3"
  },
  "language_info": {
   "codemirror_mode": {
    "name": "ipython",
    "version": 3
   },
   "file_extension": ".py",
   "mimetype": "text/x-python",
   "name": "python",
   "nbconvert_exporter": "python",
   "pygments_lexer": "ipython3",
   "version": "3.8.10"
  }
 },
 "nbformat": 4,
 "nbformat_minor": 5
}
