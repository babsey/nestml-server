{
 "cells": [
  {
   "cell_type": "code",
   "execution_count": 15,
   "id": "dd0f4c08",
   "metadata": {},
   "outputs": [],
   "source": [
    "import requests\n",
    "import nest\n",
    "import pprint"
   ]
  },
  {
   "cell_type": "code",
   "execution_count": 2,
   "id": "76b9dd5c",
   "metadata": {},
   "outputs": [
    {
     "name": "stdout",
     "output_type": "stream",
     "text": [
      "{'nest': 'master@01f6e5a76', 'nestml': '5.0.0-rc1'}\n"
     ]
    }
   ],
   "source": [
    "response = requests.get('http://localhost:5005')\n",
    "data = response.json()\n",
    "print(data)"
   ]
  },
  {
   "cell_type": "code",
   "execution_count": 10,
   "id": "e07de6b2",
   "metadata": {},
   "outputs": [],
   "source": [
    "def script(name):\n",
    "    return f\"\"\"neuron {name}:\n",
    "\n",
    "  state:\n",
    "    r integer = 0                 # counts number of tick during the refractory period\n",
    "    V_abs mV = 0 mV\n",
    "  end\n",
    "\n",
    "  equations:\n",
    "    kernel I_kernel_inh = (e / tau_syn_inh) * t * exp(-t / tau_syn_inh)\n",
    "    kernel I_kernel_exc = (e / tau_syn_exc) * t * exp(-t / tau_syn_exc)\n",
    "    recordable inline V_m mV = V_abs + E_L # Membrane potential.\n",
    "    inline I pA = convolve(I_kernel_inh, inh_spikes) + convolve(I_kernel_exc, exc_spikes) + I_e + I_stim\n",
    "    V_abs' = -V_abs/tau_m + I/C_m\n",
    "  end\n",
    "\n",
    "  parameters:\n",
    "    C_m     pF = 250 pF       # Capacitance of the membrane\n",
    "    tau_m   ms = 10 ms        # Membrane time constant\n",
    "    tau_syn_inh ms = 2 ms     # Time constant of synaptic current\n",
    "    tau_syn_exc ms = 2 ms     # Time constant of synaptic current\n",
    "    t_ref   ms = 2 ms         # Duration of refractory period\n",
    "    E_L     mV = -70 mV       # Resting potential\n",
    "    V_reset mV = -70 mV - E_L # Reset potential of the membrane\n",
    "    V_th   mV = -55 mV - E_L  # Spike threshold\n",
    "    I_e pA = 0 pA\n",
    "  end\n",
    "\n",
    "  internals:\n",
    "    RefractoryCounts integer = steps(t_ref) # refractory time in steps\n",
    "  end\n",
    "\n",
    "  input:\n",
    "    exc_spikes pA <- excitatory spike\n",
    "    inh_spikes pA <- inhibitory spike\n",
    "    I_stim pA <- continuous\n",
    "  end\n",
    "\n",
    "  output: spike\n",
    "\n",
    "  update:\n",
    "    if r == 0: # neuron not refractory\n",
    "      integrate_odes()\n",
    "    else: # neuron is absolute refractory\n",
    "      r = r - 1\n",
    "    end\n",
    "\n",
    "    if V_abs >= V_th: # threshold crossing\n",
    "      r = RefractoryCounts\n",
    "      V_abs = V_reset\n",
    "      emit_spike()\n",
    "    end\n",
    "\n",
    "  end\n",
    "\n",
    "end\n",
    "\"\"\""
   ]
  },
  {
   "cell_type": "code",
   "execution_count": 21,
   "id": "28f8f90f",
   "metadata": {},
   "outputs": [
    {
     "name": "stdout",
     "output_type": "stream",
     "text": [
      "{'models': [{'name': 'my_neuron1',\n",
      "             'script': 'neuron my_neuron1:\\n'\n",
      "                       '\\n'\n",
      "                       '  state:\\n'\n",
      "                       '    r integer = 0                 # counts number of '\n",
      "                       'tick during the refractory period\\n'\n",
      "                       '    V_abs mV = 0 mV\\n'\n",
      "                       '  end\\n'\n",
      "                       '\\n'\n",
      "                       '  equations:\\n'\n",
      "                       '    kernel I_kernel_inh = (e / tau_syn_inh) * t * '\n",
      "                       'exp(-t / tau_syn_inh)\\n'\n",
      "                       '    kernel I_kernel_exc = (e / tau_syn_exc) * t * '\n",
      "                       'exp(-t / tau_syn_exc)\\n'\n",
      "                       '    recordable inline V_m mV = V_abs + E_L # Membrane '\n",
      "                       'potential.\\n'\n",
      "                       '    inline I pA = convolve(I_kernel_inh, inh_spikes) + '\n",
      "                       'convolve(I_kernel_exc, exc_spikes) + I_e + I_stim\\n'\n",
      "                       \"    V_abs' = -V_abs/tau_m + I/C_m\\n\"\n",
      "                       '  end\\n'\n",
      "                       '\\n'\n",
      "                       '  parameters:\\n'\n",
      "                       '    C_m     pF = 250 pF       # Capacitance of the '\n",
      "                       'membrane\\n'\n",
      "                       '    tau_m   ms = 10 ms        # Membrane time '\n",
      "                       'constant\\n'\n",
      "                       '    tau_syn_inh ms = 2 ms     # Time constant of '\n",
      "                       'synaptic current\\n'\n",
      "                       '    tau_syn_exc ms = 2 ms     # Time constant of '\n",
      "                       'synaptic current\\n'\n",
      "                       '    t_ref   ms = 2 ms         # Duration of refractory '\n",
      "                       'period\\n'\n",
      "                       '    E_L     mV = -70 mV       # Resting potential\\n'\n",
      "                       '    V_reset mV = -70 mV - E_L # Reset potential of the '\n",
      "                       'membrane\\n'\n",
      "                       '    V_th   mV = -55 mV - E_L  # Spike threshold\\n'\n",
      "                       '    I_e pA = 0 pA\\n'\n",
      "                       '  end\\n'\n",
      "                       '\\n'\n",
      "                       '  internals:\\n'\n",
      "                       '    RefractoryCounts integer = steps(t_ref) # '\n",
      "                       'refractory time in steps\\n'\n",
      "                       '  end\\n'\n",
      "                       '\\n'\n",
      "                       '  input:\\n'\n",
      "                       '    exc_spikes pA <- excitatory spike\\n'\n",
      "                       '    inh_spikes pA <- inhibitory spike\\n'\n",
      "                       '    I_stim pA <- continuous\\n'\n",
      "                       '  end\\n'\n",
      "                       '\\n'\n",
      "                       '  output: spike\\n'\n",
      "                       '\\n'\n",
      "                       '  update:\\n'\n",
      "                       '    if r == 0: # neuron not refractory\\n'\n",
      "                       '      integrate_odes()\\n'\n",
      "                       '    else: # neuron is absolute refractory\\n'\n",
      "                       '      r = r - 1\\n'\n",
      "                       '    end\\n'\n",
      "                       '\\n'\n",
      "                       '    if V_abs >= V_th: # threshold crossing\\n'\n",
      "                       '      r = RefractoryCounts\\n'\n",
      "                       '      V_abs = V_reset\\n'\n",
      "                       '      emit_spike()\\n'\n",
      "                       '    end\\n'\n",
      "                       '\\n'\n",
      "                       '  end\\n'\n",
      "                       '\\n'\n",
      "                       'end\\n'},\n",
      "            {'name': 'my_neuron2',\n",
      "             'script': 'neuron my_neuron2:\\n'\n",
      "                       '\\n'\n",
      "                       '  state:\\n'\n",
      "                       '    r integer = 0                 # counts number of '\n",
      "                       'tick during the refractory period\\n'\n",
      "                       '    V_abs mV = 0 mV\\n'\n",
      "                       '  end\\n'\n",
      "                       '\\n'\n",
      "                       '  equations:\\n'\n",
      "                       '    kernel I_kernel_inh = (e / tau_syn_inh) * t * '\n",
      "                       'exp(-t / tau_syn_inh)\\n'\n",
      "                       '    kernel I_kernel_exc = (e / tau_syn_exc) * t * '\n",
      "                       'exp(-t / tau_syn_exc)\\n'\n",
      "                       '    recordable inline V_m mV = V_abs + E_L # Membrane '\n",
      "                       'potential.\\n'\n",
      "                       '    inline I pA = convolve(I_kernel_inh, inh_spikes) + '\n",
      "                       'convolve(I_kernel_exc, exc_spikes) + I_e + I_stim\\n'\n",
      "                       \"    V_abs' = -V_abs/tau_m + I/C_m\\n\"\n",
      "                       '  end\\n'\n",
      "                       '\\n'\n",
      "                       '  parameters:\\n'\n",
      "                       '    C_m     pF = 250 pF       # Capacitance of the '\n",
      "                       'membrane\\n'\n",
      "                       '    tau_m   ms = 10 ms        # Membrane time '\n",
      "                       'constant\\n'\n",
      "                       '    tau_syn_inh ms = 2 ms     # Time constant of '\n",
      "                       'synaptic current\\n'\n",
      "                       '    tau_syn_exc ms = 2 ms     # Time constant of '\n",
      "                       'synaptic current\\n'\n",
      "                       '    t_ref   ms = 2 ms         # Duration of refractory '\n",
      "                       'period\\n'\n",
      "                       '    E_L     mV = -70 mV       # Resting potential\\n'\n",
      "                       '    V_reset mV = -70 mV - E_L # Reset potential of the '\n",
      "                       'membrane\\n'\n",
      "                       '    V_th   mV = -55 mV - E_L  # Spike threshold\\n'\n",
      "                       '    I_e pA = 0 pA\\n'\n",
      "                       '  end\\n'\n",
      "                       '\\n'\n",
      "                       '  internals:\\n'\n",
      "                       '    RefractoryCounts integer = steps(t_ref) # '\n",
      "                       'refractory time in steps\\n'\n",
      "                       '  end\\n'\n",
      "                       '\\n'\n",
      "                       '  input:\\n'\n",
      "                       '    exc_spikes pA <- excitatory spike\\n'\n",
      "                       '    inh_spikes pA <- inhibitory spike\\n'\n",
      "                       '    I_stim pA <- continuous\\n'\n",
      "                       '  end\\n'\n",
      "                       '\\n'\n",
      "                       '  output: spike\\n'\n",
      "                       '\\n'\n",
      "                       '  update:\\n'\n",
      "                       '    if r == 0: # neuron not refractory\\n'\n",
      "                       '      integrate_odes()\\n'\n",
      "                       '    else: # neuron is absolute refractory\\n'\n",
      "                       '      r = r - 1\\n'\n",
      "                       '    end\\n'\n",
      "                       '\\n'\n",
      "                       '    if V_abs >= V_th: # threshold crossing\\n'\n",
      "                       '      r = RefractoryCounts\\n'\n",
      "                       '      V_abs = V_reset\\n'\n",
      "                       '      emit_spike()\\n'\n",
      "                       '    end\\n'\n",
      "                       '\\n'\n",
      "                       '  end\\n'\n",
      "                       '\\n'\n",
      "                       'end\\n'}]}\n"
     ]
    }
   ],
   "source": [
    "models = ['my_neuron1', 'my_neuron2', 'my_neuron3'][:2]\n",
    "data = {'models': [{'name': model, 'script': script(model)} for model in models]}\n",
    "pprint.pprint(data)"
   ]
  },
  {
   "cell_type": "code",
   "execution_count": 22,
   "id": "0d09ad6a",
   "metadata": {
    "scrolled": true
   },
   "outputs": [
    {
     "name": "stdout",
     "output_type": "stream",
     "text": [
      "{'status': {'BUILT': ['nestmlmodule', 'my_neuron1', 'my_neuron2'],\n",
      "            'INITIALIZED': ['my_neuron1', 'my_neuron2'],\n",
      "            'INSTALLED': [],\n",
      "            'WRITTEN': ['my_neuron2', 'my_neuron1']}}\n"
     ]
    }
   ],
   "source": [
    "response = requests.post('http://localhost:5005/install', json=data)\n",
    "\n",
    "try:\n",
    "    pprint.pprint(response.json())\n",
    "except:\n",
    "    print(response.text)"
   ]
  },
  {
   "cell_type": "code",
   "execution_count": 1,
   "id": "57e1cd3d",
   "metadata": {},
   "outputs": [
    {
     "name": "stdout",
     "output_type": "stream",
     "text": [
      "\n",
      "              -- N E S T --\n",
      "  Copyright (C) 2004 The NEST Initiative\n",
      "\n",
      " Version: UNKNOWN\n",
      " Built: Mar 30 2022 15:28:56\n",
      "\n",
      " This program is provided AS IS and comes with\n",
      " NO WARRANTY. See the file LICENSE for details.\n",
      "\n",
      " Problems or suggestions?\n",
      "   Visit https://www.nest-simulator.org\n",
      "\n",
      " Type 'nest.help()' to find out more about NEST.\n",
      "\n",
      "\n",
      "Mar 30 17:08:51 Install [Info]: \n",
      "    loaded module nestmlmodule\n"
     ]
    }
   ],
   "source": [
    "import nest\n",
    "nest.ResetKernel()\n",
    "try:\n",
    "    nest.Install('nestmlmodule')\n",
    "except:\n",
    "    pass"
   ]
  },
  {
   "cell_type": "code",
   "execution_count": 2,
   "id": "32fd20aa",
   "metadata": {},
   "outputs": [
    {
     "name": "stdout",
     "output_type": "stream",
     "text": [
      "['my_neuron3']\n"
     ]
    }
   ],
   "source": [
    "models = nest.node_models\n",
    "my_models = [model for model in models if 'my' in model]\n",
    "print(my_models)"
   ]
  },
  {
   "cell_type": "code",
   "execution_count": null,
   "id": "8e49193d",
   "metadata": {},
   "outputs": [],
   "source": [
    "data = {'models': [{'name': model_name, 'script': script}]}\n",
    "data"
   ]
  },
  {
   "cell_type": "code",
   "execution_count": null,
   "id": "d3f1fc07",
   "metadata": {},
   "outputs": [],
   "source": []
  }
 ],
 "metadata": {
  "kernelspec": {
   "display_name": "Python 3 (ipykernel)",
   "language": "python",
   "name": "python3"
  },
  "language_info": {
   "codemirror_mode": {
    "name": "ipython",
    "version": 3
   },
   "file_extension": ".py",
   "mimetype": "text/x-python",
   "name": "python",
   "nbconvert_exporter": "python",
   "pygments_lexer": "ipython3",
   "version": "3.8.10"
  }
 },
 "nbformat": 4,
 "nbformat_minor": 5
}
